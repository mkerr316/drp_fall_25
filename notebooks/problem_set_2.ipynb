{
 "cells": [
  {
   "metadata": {
    "ExecuteTime": {
     "end_time": "2025-10-02T13:05:25.760881Z",
     "start_time": "2025-10-02T13:05:25.739918Z"
    }
   },
   "cell_type": "code",
   "source": [
    "from src.drp_fall_2025.fields import PrimeField\n",
    "from src.drp_fall_2025.linear_algebra import VectorSpace"
   ],
   "id": "b0d5047112da1c11",
   "outputs": [],
   "execution_count": 1
  },
  {
   "metadata": {},
   "cell_type": "markdown",
   "source": "Proof-of-concept for creating and working with a vector space on $Z/2Z$",
   "id": "30d20cdb363d0f3c"
  },
  {
   "metadata": {
    "collapsed": true,
    "ExecuteTime": {
     "end_time": "2025-10-02T13:05:25.783824Z",
     "start_time": "2025-10-02T13:05:25.775160Z"
    }
   },
   "cell_type": "code",
   "source": [
    "Z2 = PrimeField(order=2)\n",
    "\n",
    "V = VectorSpace(dimension=3, field=Z2)\n",
    "\n",
    "v1 = V.vector(1, 0, 1)\n",
    "v2 = V.vector(1, 1, 0)\n",
    "\n",
    "print(f\"Field: {V.field}\")\n",
    "print(f\"v1: {v1}\")\n",
    "print(f\"v2: {v2}\")\n",
    "\n",
    "# Expected: (1+1, 0+1, 1+1) mod 2 = (0, 1, 1)\n",
    "v_sum = v1 + v2\n",
    "print(f\"v1 + v2 = {v_sum}\")\n",
    "\n",
    "# Expected: (1*1 + 0*1 + 1*0) mod 2 = (1 + 0 + 0) mod 2 = 1\n",
    "dot_product = v1.dot(v2)\n",
    "print(f\"v1 . v2 = {dot_product}\")"
   ],
   "id": "4cf0116fdbcd181c",
   "outputs": [
    {
     "name": "stdout",
     "output_type": "stream",
     "text": [
      "Field: PrimeField(order=2)\n",
      "v1: Vector(1, 0, 1)\n",
      "v2: Vector(1, 1, 0)\n",
      "v1 + v2 = Vector(0, 1, 1)\n",
      "v1 . v2 = 1\n"
     ]
    }
   ],
   "execution_count": 2
  },
  {
   "metadata": {},
   "cell_type": "code",
   "outputs": [],
   "execution_count": null,
   "source": "",
   "id": "a1e130a90b50ea01"
  }
 ],
 "metadata": {
  "kernelspec": {
   "display_name": "Python 3",
   "language": "python",
   "name": "python3"
  },
  "language_info": {
   "codemirror_mode": {
    "name": "ipython",
    "version": 2
   },
   "file_extension": ".py",
   "mimetype": "text/x-python",
   "name": "python",
   "nbconvert_exporter": "python",
   "pygments_lexer": "ipython2",
   "version": "2.7.6"
  }
 },
 "nbformat": 4,
 "nbformat_minor": 5
}
